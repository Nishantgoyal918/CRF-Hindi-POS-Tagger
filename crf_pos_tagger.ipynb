{
 "cells": [
  {
   "cell_type": "markdown",
   "metadata": {
    "id": "amF-uoW0us1L"
   },
   "source": [
    "# CRF Hindi POS Tagger"
   ]
  },
  {
   "cell_type": "code",
   "execution_count": null,
   "metadata": {
    "colab": {
     "base_uri": "https://localhost:8080/",
     "height": 185
    },
    "id": "rqNDJYV9rHpV",
    "outputId": "0dc0055d-d17e-4e4c-b45f-de57c5b5532b"
   },
   "outputs": [
    {
     "name": "stdout",
     "output_type": "stream",
     "text": [
      "Collecting sklearn-crfsuite\n",
      "  Downloading https://files.pythonhosted.org/packages/25/74/5b7befa513482e6dee1f3dd68171a6c9dfc14c0eaa00f885ffeba54fe9b0/sklearn_crfsuite-0.3.6-py2.py3-none-any.whl\n",
      "Requirement already satisfied: tqdm>=2.0 in /usr/local/lib/python3.6/dist-packages (from sklearn-crfsuite) (4.41.1)\n",
      "Requirement already satisfied: six in /usr/local/lib/python3.6/dist-packages (from sklearn-crfsuite) (1.15.0)\n",
      "Requirement already satisfied: tabulate in /usr/local/lib/python3.6/dist-packages (from sklearn-crfsuite) (0.8.7)\n",
      "Collecting python-crfsuite>=0.8.3\n",
      "\u001b[?25l  Downloading https://files.pythonhosted.org/packages/95/99/869dde6dbf3e0d07a013c8eebfb0a3d30776334e0097f8432b631a9a3a19/python_crfsuite-0.9.7-cp36-cp36m-manylinux1_x86_64.whl (743kB)\n",
      "\u001b[K     |████████████████████████████████| 747kB 9.7MB/s \n",
      "\u001b[?25hInstalling collected packages: python-crfsuite, sklearn-crfsuite\n",
      "Successfully installed python-crfsuite-0.9.7 sklearn-crfsuite-0.3.6\n"
     ]
    }
   ],
   "source": [
    "!pip install sklearn-crfsuite"
   ]
  },
  {
   "cell_type": "code",
   "execution_count": null,
   "metadata": {
    "id": "pAzpi-Z6yORV"
   },
   "outputs": [],
   "source": [
    "import sklearn\n",
    "import scipy.stats\n",
    "from sklearn.metrics import make_scorer\n",
    "from sklearn.model_selection import cross_val_score, RandomizedSearchCV\n",
    "\n",
    "import sklearn_crfsuite\n",
    "from sklearn_crfsuite import scorers\n",
    "from sklearn_crfsuite import metrics\n",
    "\n",
    "import pandas as pd\n",
    "from io import StringIO\n",
    "\n",
    "from collections import Counter"
   ]
  },
  {
   "cell_type": "code",
   "execution_count": null,
   "metadata": {
    "colab": {
     "base_uri": "https://localhost:8080/",
     "height": 106,
     "resources": {
      "http://localhost:8080/nbextensions/google.colab/files.js": {
       "data": "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",
       "headers": [
        [
         "content-type",
         "application/javascript"
        ]
       ],
       "ok": true,
       "status": 200,
       "status_text": ""
      }
     }
    },
    "id": "xMIPs_bqyn4g",
    "outputId": "d7f15b96-3db1-48ea-bfb8-914615845c75"
   },
   "outputs": [
    {
     "data": {
      "text/html": [
       "\n",
       "     <input type=\"file\" id=\"files-7428397d-fe39-4d29-8d6e-be49f81736d5\" name=\"files[]\" multiple disabled\n",
       "        style=\"border:none\" />\n",
       "     <output id=\"result-7428397d-fe39-4d29-8d6e-be49f81736d5\">\n",
       "      Upload widget is only available when the cell has been executed in the\n",
       "      current browser session. Please rerun this cell to enable.\n",
       "      </output>\n",
       "      <script src=\"/nbextensions/google.colab/files.js\"></script> "
      ],
      "text/plain": [
       "<IPython.core.display.HTML object>"
      ]
     },
     "metadata": {
      "tags": []
     },
     "output_type": "display_data"
    },
    {
     "name": "stdout",
     "output_type": "stream",
     "text": [
      "Saving hi-ud-test .conllu to hi-ud-test .conllu\n",
      "Saving hi-ud-train.conllu to hi-ud-train.conllu\n"
     ]
    }
   ],
   "source": [
    "#importing dataset\n",
    "from google.colab import files\n",
    "uploaded = files.upload()"
   ]
  },
  {
   "cell_type": "code",
   "execution_count": null,
   "metadata": {
    "id": "IHg6wAUIyx1Q"
   },
   "outputs": [],
   "source": [
    "train_data = uploaded['hi-ud-train.conllu'].decode(\"utf-8\")\n",
    "test_data = uploaded['hi-ud-test .conllu'].decode(\"utf-8\")\n",
    "\n",
    "train_df = pd.read_csv(StringIO(train_data), sep=',')\n",
    "test_df = pd.read_csv(StringIO(test_data), sep='\\t')"
   ]
  },
  {
   "cell_type": "markdown",
   "metadata": {
    "id": "IKPTrPouOgyP"
   },
   "source": [
    "### Pre-Processing Data"
   ]
  },
  {
   "cell_type": "code",
   "execution_count": null,
   "metadata": {
    "id": "mIxg22r2y5Gh"
   },
   "outputs": [],
   "source": [
    "def preProcessDF(df):\n",
    "  processed_sentences = []\n",
    "  tags_list = []\n",
    "  sentence = []\n",
    "  sentence_tags = []\n",
    "  for i in range(0, len(df)):\n",
    "    if not (pd.isna(df.iloc[i, 0])):\n",
    "      # ',' are missing with POS tag COMMA\n",
    "      if (df.iloc[i, 2] == 'COMMA'):\n",
    "        sentence.append(',')\n",
    "        sentence_tags.append(df.iloc[i, 2])\n",
    "      else:\n",
    "        sentence.append(str(df.iloc[i, 1]))\n",
    "        sentence_tags.append(df.iloc[i, 2])\n",
    "    else:\n",
    "      if(len(sentence)):\n",
    "        processed_sentences.append(sentence.copy())\n",
    "        tags_list.append(sentence_tags.copy())\n",
    "        sentence.clear()\n",
    "        sentence_tags.clear()\n",
    "  \n",
    "  if (len(sentence)):\n",
    "    processed_sentences.append(sentence.copy())\n",
    "    tags_list.append(sentence_tags.copy())\n",
    "    sentence.clear()\n",
    "    sentence_tags.clear()\n",
    "\n",
    "  return processed_sentences, tags_list"
   ]
  },
  {
   "cell_type": "markdown",
   "metadata": {
    "id": "RspM9ENzOtMN"
   },
   "source": [
    "### Features\n",
    "\n",
    "<b>word.lower:</b> word in lowercase. <br />\n",
    "<b>word:</b> word without any modifications as it contains important information (eg: information about matras). <br />\n",
    "<b>is_first:</b> True if word is at the start of the sentence. Some part of speech usually appear at the start. (eg: In hindi sentences usually the first word is noun). <br />\n",
    "<b>is_last:</b> True if word is at the end of sentence. Some part of speech usually appear at the end. <br />\n",
    "<b>prev_word and next_word:</b> word preceding and following the current word. POS of a word depends on the context. <br />\n",
    "<b>prev_prev_word and next_next_word: </b> (i-2)th word and (i+2)th word if the current word is at i. POS of a word depends on the context. This is also helpful for words that appear in pair having same pos tag and are separated by special characters (eg: din-rath). <br />\n",
    "<b>prefix and suffix: </b> prefix and suffix are usually 1-4 characters long, so we are taking all possibilities. words with similar prefix and suffix usually have similar POS tags. Also sometimes the addition of prefix and suffix to a word also changes its pos tag. <br />\n",
    "<b>is_number: </b> True if the current word is numeric. If the word is numeric then its pos tag will be NUM. <br />\n",
    "<b>is_alphanumeric: </b> True if the current word is alphanumeric. If a word is not alphanumeric than it can be a special symbol like COMMA, FULL STOP, etc <br />"
   ]
  },
  {
   "cell_type": "code",
   "execution_count": null,
   "metadata": {
    "id": "j35GDRiWOK7L"
   },
   "outputs": [],
   "source": [
    "def extractTokenFeatures(sentence, index):\n",
    "  features = {\n",
    "      'word': sentence[index],\n",
    "      'word.lower': sentence[index].lower(),\n",
    "      'is_first': index == 0,\n",
    "      'is_last': index == len(sentence) - 1,\n",
    "      'prev_word':'' if index == 0 else sentence[index - 1],\n",
    "      'next_word':'' if index == len(sentence) - 1 else sentence[index + 1],\n",
    "      'prev_prev_word':'' if index <= 1 else sentence[index - 2],\n",
    "      'next_next_word':'' if index >= len(sentence) - 2 else sentence[index + 2],\n",
    "      'prefix-1': sentence[index][:1],\n",
    "      'prefix-2': sentence[index][:2],\n",
    "      'prefix-3': sentence[index][:3],\n",
    "      'prefix-4': sentence[index][:4],\n",
    "      'suffix-1': sentence[index][-1:],\n",
    "      'suffix-2': sentence[index][-2:],\n",
    "      'suffix-3': sentence[index][-3:],\n",
    "      'suffix-4': sentence[index][-4:],\n",
    "      'is_number': sentence[index].isdigit(),\n",
    "      'is_alphanumeric': sentence[index].isalnum()\n",
    "  }\n",
    "\n",
    "  return features"
   ]
  },
  {
   "cell_type": "code",
   "execution_count": null,
   "metadata": {
    "id": "VcdcmKvnRCTO"
   },
   "outputs": [],
   "source": [
    "def convertToInputFormat(sentences, tags_list):\n",
    "  X = []\n",
    "  Y = []\n",
    "  for i in range(len(sentences)):\n",
    "    sentence_features = []\n",
    "    sentence_tags = []\n",
    "    for j in range(len(sentences[i])):\n",
    "      sentence_features.append(extractTokenFeatures(sentences[i], j))\n",
    "      sentence_tags.append(tags_list[i][j])\n",
    "    X.append(sentence_features)\n",
    "    Y.append(sentence_tags)\n",
    "  return X, Y"
   ]
  },
  {
   "cell_type": "code",
   "execution_count": null,
   "metadata": {
    "id": "pBOXw6kZQRUA"
   },
   "outputs": [],
   "source": [
    "train_sentences, train_tags_list = preProcessDF(train_df)\n",
    "test_sentences, test_tags_list = preProcessDF(test_df)\n",
    "\n",
    "X_train, Y_train = convertToInputFormat(train_sentences, train_tags_list)\n",
    "X_test, Y_test = convertToInputFormat(test_sentences, test_tags_list)"
   ]
  },
  {
   "cell_type": "markdown",
   "metadata": {
    "id": "dlDPwp-RSV-2"
   },
   "source": [
    "### CRF Model"
   ]
  },
  {
   "cell_type": "code",
   "execution_count": null,
   "metadata": {
    "id": "U0QovbroRxX9"
   },
   "outputs": [],
   "source": [
    "crf = sklearn_crfsuite.CRF(\n",
    "    algorithm='lbfgs',\n",
    "    c1=0.018407615768017527,\n",
    "    c2=0.07875523994164575,\n",
    "    max_iterations=100,\n",
    "    all_possible_transitions=True\n",
    ")"
   ]
  },
  {
   "cell_type": "code",
   "execution_count": null,
   "metadata": {
    "id": "ps-W6Ar5SZNG"
   },
   "outputs": [],
   "source": [
    "crf.fit(X_train, Y_train)\n",
    "\n",
    "class_labels = crf.classes_"
   ]
  },
  {
   "cell_type": "code",
   "execution_count": null,
   "metadata": {
    "id": "HeNHWhjiUS53"
   },
   "outputs": [],
   "source": [
    "# Used this commented code for tuning hyperparameters\n",
    "# After tuning parameters c1 = 0.018407615768017527 and c2 = 0.07875523994164575\n",
    "# params_space = {\n",
    "#     'c1': scipy.stats.expon(scale=0.5),\n",
    "#     'c2': scipy.stats.expon(scale=0.05),\n",
    "# }\n",
    "\n",
    "# f1_scorer = make_scorer(metrics.flat_f1_score,\n",
    "#                         average='weighted', labels=class_labels)\n",
    "\n",
    "# rs = RandomizedSearchCV(crf, params_space,\n",
    "#                         cv=3,\n",
    "#                         verbose=1,\n",
    "#                         n_jobs=-1,\n",
    "#                         n_iter=50,\n",
    "#                         scoring=f1_scorer)\n",
    "# rs.fit(X_train, Y_train)\n",
    "\n",
    "# print('best params:', rs.best_params_)\n",
    "# print('best CV score:', rs.best_score_)\n",
    "# print('model size: {:0.2f}M'.format(rs.best_estimator_.size_ / 1000000))"
   ]
  },
  {
   "cell_type": "code",
   "execution_count": null,
   "metadata": {
    "id": "OKpm_wN7Ufwe"
   },
   "outputs": [],
   "source": [
    "# crf = sklearn_crfsuite.CRF(\n",
    "#     algorithm='lbfgs',\n",
    "#     c1=rs.best_params_['c1'],\n",
    "#     c2=rs.best_params_['c2'],\n",
    "#     max_iterations=100,\n",
    "#     all_possible_transitions=True\n",
    "# )\n",
    "\n",
    "# crf.fit(X_train, Y_train)"
   ]
  },
  {
   "cell_type": "code",
   "execution_count": null,
   "metadata": {
    "colab": {
     "base_uri": "https://localhost:8080/",
     "height": 34
    },
    "id": "KZDJeDBzSiRm",
    "outputId": "4fa29366-30b0-40c1-ed66-eb15c69f0ece"
   },
   "outputs": [
    {
     "name": "stdout",
     "output_type": "stream",
     "text": [
      "Training Accuracy: 0.9997371965633727\n"
     ]
    }
   ],
   "source": [
    "Y_train_pred = crf.predict(X_train)\n",
    "print('Training Accuracy: ' + str(metrics.flat_f1_score(Y_train, Y_train_pred,average='weighted',labels=class_labels)))"
   ]
  },
  {
   "cell_type": "code",
   "execution_count": null,
   "metadata": {
    "colab": {
     "base_uri": "https://localhost:8080/",
     "height": 87
    },
    "id": "5GEiW0XcS_nx",
    "outputId": "49deca2f-7f35-44af-d271-7efcb52e453c"
   },
   "outputs": [
    {
     "name": "stdout",
     "output_type": "stream",
     "text": [
      "Test Accuracy: 0.8622969916898243\n"
     ]
    },
    {
     "name": "stderr",
     "output_type": "stream",
     "text": [
      "/usr/local/lib/python3.6/dist-packages/sklearn/metrics/_classification.py:1515: UndefinedMetricWarning: F-score is ill-defined and being set to 0.0 in labels with no true nor predicted samples. Use `zero_division` parameter to control this behavior.\n",
      "  average, \"true nor predicted\", 'F-score is', len(true_sum)\n"
     ]
    }
   ],
   "source": [
    "Y_test_pred = crf.predict(X_test)\n",
    "print('Test Accuracy: ' + str(metrics.flat_f1_score(Y_test, Y_test_pred,average='weighted',labels=class_labels)))"
   ]
  },
  {
   "cell_type": "code",
   "execution_count": null,
   "metadata": {
    "colab": {
     "base_uri": "https://localhost:8080/",
     "height": 420
    },
    "id": "XOkWGJNZTMV_",
    "outputId": "ac8a4255-0f3c-4f11-d848-751cbc1a6bd3"
   },
   "outputs": [
    {
     "name": "stdout",
     "output_type": "stream",
     "text": [
      "Precision, Recall, F-Score per token for training data\n",
      "              precision    recall  f1-score   support\n",
      "\n",
      "         DET      1.000     1.000     1.000       231\n",
      "       PROPN      1.000     1.000     1.000       708\n",
      "         ADP      1.000     1.000     1.000      1387\n",
      "         ADV      1.000     1.000     1.000       111\n",
      "         ADJ      1.000     1.000     1.000       570\n",
      "        NOUN      1.000     1.000     1.000      1597\n",
      "         NUM      1.000     1.000     1.000       152\n",
      "         AUX      0.997     1.000     0.999       730\n",
      "       PUNCT      1.000     1.000     1.000       564\n",
      "        PRON      1.000     1.000     1.000       431\n",
      "        VERB      1.000     0.997     0.998       640\n",
      "       CCONJ      1.000     1.000     1.000       150\n",
      "        PART      1.000     1.000     1.000       163\n",
      "       COMMA      1.000     1.000     1.000       114\n",
      "       SCONJ      1.000     1.000     1.000        61\n",
      "           X      1.000     1.000     1.000         2\n",
      "\n",
      "    accuracy                          1.000      7611\n",
      "   macro avg      1.000     1.000     1.000      7611\n",
      "weighted avg      1.000     1.000     1.000      7611\n",
      "\n"
     ]
    }
   ],
   "source": [
    "print('Precision, Recall, F-Score per token for training data')\n",
    "print(metrics.flat_classification_report(Y_train, Y_train_pred, labels=class_labels, digits=3))"
   ]
  },
  {
   "cell_type": "code",
   "execution_count": null,
   "metadata": {
    "colab": {
     "base_uri": "https://localhost:8080/",
     "height": 507
    },
    "id": "5FnC76vVT7EN",
    "outputId": "cee48a80-d97f-4ce2-e805-8b7e818db940"
   },
   "outputs": [
    {
     "name": "stdout",
     "output_type": "stream",
     "text": [
      "Precision, Recall, F-Score per token for test data\n",
      "              precision    recall  f1-score   support\n",
      "\n",
      "         DET      0.842     0.889     0.865        36\n",
      "       PROPN      0.670     0.531     0.592       145\n",
      "         ADP      0.968     0.974     0.971       309\n",
      "         ADV      0.733     0.524     0.611        21\n",
      "         ADJ      0.698     0.713     0.705        94\n",
      "        NOUN      0.784     0.894     0.835       329\n",
      "         NUM      0.957     0.880     0.917        25\n",
      "         AUX      0.971     0.957     0.964       139\n",
      "       PUNCT      1.000     0.837     0.911       135\n",
      "        PRON      0.948     0.846     0.894        65\n",
      "        VERB      0.914     0.859     0.885        99\n",
      "       CCONJ      1.000     1.000     1.000        25\n",
      "        PART      1.000     1.000     1.000        33\n",
      "       COMMA      0.000     0.000     0.000         0\n",
      "       SCONJ      0.750     1.000     0.857         3\n",
      "           X      0.000     0.000     0.000         0\n",
      "\n",
      "   micro avg      0.858     0.858     0.858      1458\n",
      "   macro avg      0.765     0.744     0.751      1458\n",
      "weighted avg      0.872     0.858     0.862      1458\n",
      "\n"
     ]
    },
    {
     "name": "stderr",
     "output_type": "stream",
     "text": [
      "/usr/local/lib/python3.6/dist-packages/sklearn/metrics/_classification.py:1272: UndefinedMetricWarning: Precision and F-score are ill-defined and being set to 0.0 in labels with no predicted samples. Use `zero_division` parameter to control this behavior.\n",
      "  _warn_prf(average, modifier, msg_start, len(result))\n",
      "/usr/local/lib/python3.6/dist-packages/sklearn/metrics/_classification.py:1272: UndefinedMetricWarning: Recall and F-score are ill-defined and being set to 0.0 in labels with no true samples. Use `zero_division` parameter to control this behavior.\n",
      "  _warn_prf(average, modifier, msg_start, len(result))\n"
     ]
    }
   ],
   "source": [
    "print('Precision, Recall, F-Score per token for test data')\n",
    "print(metrics.flat_classification_report(Y_test, Y_test_pred, labels=class_labels, digits=3))"
   ]
  },
  {
   "cell_type": "code",
   "execution_count": null,
   "metadata": {
    "colab": {
     "base_uri": "https://localhost:8080/",
     "height": 403
    },
    "id": "lpVXCyrgUU6h",
    "outputId": "2aff412a-c3cd-4d4d-bd83-69f3d76e67cf"
   },
   "outputs": [
    {
     "name": "stdout",
     "output_type": "stream",
     "text": [
      "10 most common transition features\n",
      "VERB -> AUX, weight: 4.013814\n",
      "PROPN -> PROPN, weight: 2.722663\n",
      "ADJ -> NOUN, weight: 2.461515\n",
      "NUM -> NOUN, weight: 2.190993\n",
      "DET -> NOUN, weight: 1.993408\n",
      "PROPN -> ADP, weight: 1.885115\n",
      "NOUN -> ADP, weight: 1.836157\n",
      "AUX -> AUX, weight: 1.816286\n",
      "PRON -> ADP, weight: 1.809544\n",
      "PART -> NUM, weight: 1.533121\n",
      "\n",
      "10 least common transition features\n",
      "PROPN -> NOUN, weight: -1.139805\n",
      "PRON -> CCONJ, weight: -1.194631\n",
      "VERB -> VERB, weight: -1.225076\n",
      "CCONJ -> AUX, weight: -1.229738\n",
      "PROPN -> DET, weight: -1.336203\n",
      "PROPN -> AUX, weight: -1.37209\n",
      "CCONJ -> PART, weight: -1.443849\n",
      "ADJ -> PRON, weight: -1.661681\n",
      "ADJ -> ADP, weight: -2.021156\n",
      "DET -> ADP, weight: -2.213404\n"
     ]
    }
   ],
   "source": [
    "def printTransitions(transitions):\n",
    "    for (label_from, label_to), weight in transitions:\n",
    "        print(label_from + \" -> \" + label_to + \", weight: \" + str(weight))\n",
    "\n",
    "print('10 most common transition features')\n",
    "printTransitions(Counter(crf.transition_features_).most_common(10))\n",
    "print()\n",
    "\n",
    "print('10 least common transition features')\n",
    "printTransitions(Counter(crf.transition_features_).most_common()[-10:])"
   ]
  },
  {
   "cell_type": "code",
   "execution_count": null,
   "metadata": {
    "id": "dcnHN-mMVevD"
   },
   "outputs": [],
   "source": []
  }
 ],
 "metadata": {
  "accelerator": "GPU",
  "colab": {
   "collapsed_sections": [],
   "name": "NLP_Assignment_4_19MA20030.ipynb",
   "provenance": []
  },
  "kernelspec": {
   "display_name": "Python 3",
   "language": "python",
   "name": "python3"
  },
  "language_info": {
   "codemirror_mode": {
    "name": "ipython",
    "version": 3
   },
   "file_extension": ".py",
   "mimetype": "text/x-python",
   "name": "python",
   "nbconvert_exporter": "python",
   "pygments_lexer": "ipython3",
   "version": "3.7.3"
  }
 },
 "nbformat": 4,
 "nbformat_minor": 1
}
